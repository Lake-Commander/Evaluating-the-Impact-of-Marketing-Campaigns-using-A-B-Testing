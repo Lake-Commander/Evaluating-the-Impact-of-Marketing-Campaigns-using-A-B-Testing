{
 "cells": [
  {
   "cell_type": "code",
   "execution_count": null,
   "id": "7f918b3c",
   "metadata": {},
   "outputs": [],
   "source": [
    "## 📘 Introduction\n",
    "\n",
    "This case study evaluates a marketing A/B test designed to measure the effectiveness of ad campaigns in converting users. The dataset includes control (PSA) and experimental (ad) groups, and we aim to:\n",
    "\n",
    "- Analyze group performance and test if ad exposure improves conversion.\n",
    "- Assess statistical significance using a Chi-square test.\n",
    "- Estimate potential revenue uplift from successful ad conversions.\n",
    "- Provide actionable insights for marketing strategy improvements.\n"
   ]
  },
  {
   "cell_type": "code",
   "execution_count": null,
   "id": "f9556d03",
   "metadata": {},
   "outputs": [],
   "source": [
    "# Load libraries\n",
    "import pandas as pd\n",
    "import matplotlib.pyplot as plt\n",
    "import seaborn as sns\n",
    "from scipy.stats import chi2_contingency\n",
    "\n",
    "# Style\n",
    "sns.set(style=\"whitegrid\")\n",
    "\n",
    "# Load dataset\n",
    "df = pd.read_csv(\"marketing_AB.csv\")\n",
    "df.head()\n"
   ]
  },
  {
   "cell_type": "code",
   "execution_count": null,
   "id": "445d1937",
   "metadata": {},
   "outputs": [],
   "source": [
    "# Basic structure\n",
    "df.info()\n",
    "df.describe(include=\"all\")\n"
   ]
  },
  {
   "cell_type": "code",
   "execution_count": null,
   "id": "40625a4c",
   "metadata": {},
   "outputs": [],
   "source": [
    "# Check for missing values\n",
    "print(\"Missing values:\\n\", df.isnull().sum())\n",
    "\n",
    "# Drop rows with critical missing data if any\n",
    "df.dropna(subset=['user id', 'test group', 'converted'], inplace=True)\n",
    "\n",
    "# Check duplicates\n",
    "print(f\"Duplicate rows: {df.duplicated().sum()}\")\n",
    "\n",
    "# Drop duplicates\n",
    "df = df.drop_duplicates()\n",
    "\n",
    "# Check column types\n",
    "df['converted'] = df['converted'].astype(bool)\n",
    "df['test group'] = df['test group'].astype('category')\n",
    "df['most ads day'] = df['most ads day'].astype('category')\n"
   ]
  },
  {
   "cell_type": "code",
   "execution_count": null,
   "id": "736de88a",
   "metadata": {},
   "outputs": [],
   "source": [
    "## 📊 Exploratory Data Analysis\n",
    "\n",
    "We start by examining the basic distribution of ads, conversions, and test group behavior.\n"
   ]
  },
  {
   "cell_type": "code",
   "execution_count": null,
   "id": "c8de82c9",
   "metadata": {},
   "outputs": [],
   "source": [
    "# Conversion rate by group\n",
    "group_conv = df.groupby(\"test group\")[\"converted\"].mean().reset_index()\n",
    "\n",
    "sns.barplot(data=group_conv, x=\"test group\", y=\"converted\", palette=\"viridis\")\n",
    "plt.title(\"Conversion Rate by Test Group\")\n",
    "plt.ylim(0, 0.03)\n",
    "plt.show()\n"
   ]
  },
  {
   "cell_type": "code",
   "execution_count": null,
   "id": "576e5cb7",
   "metadata": {},
   "outputs": [],
   "source": [
    "# Total ads vs conversion\n",
    "sns.boxplot(data=df, x=\"converted\", y=\"total ads\", palette=\"Set2\")\n",
    "plt.yscale(\"log\")\n",
    "plt.title(\"Total Ads Seen by Conversion Outcome\")\n",
    "plt.show()\n"
   ]
  },
  {
   "cell_type": "code",
   "execution_count": null,
   "id": "09e49a2d",
   "metadata": {},
   "outputs": [],
   "source": [
    "# Conversion by day\n",
    "day_order = [\"Monday\", \"Tuesday\", \"Wednesday\", \"Thursday\", \"Friday\", \"Saturday\", \"Sunday\"]\n",
    "sns.barplot(data=df.groupby(\"most ads day\")[\"converted\"].mean().reindex(day_order).reset_index(),\n",
    "            x=\"most ads day\", y=\"converted\", palette=\"crest\")\n",
    "plt.title(\"Conversion Rate by Day of Most Ads Seen\")\n",
    "plt.xticks(rotation=45)\n",
    "plt.show()\n"
   ]
  },
  {
   "cell_type": "code",
   "execution_count": null,
   "id": "896d8b99",
   "metadata": {},
   "outputs": [],
   "source": [
    "# Conversion by hour\n",
    "hourly = df.groupby(\"most ads hour\")[\"converted\"].mean().reset_index()\n",
    "sns.lineplot(data=hourly, x=\"most ads hour\", y=\"converted\", marker='o', color='teal')\n",
    "plt.title(\"Conversion Rate by Hour of Most Ads Seen\")\n",
    "plt.xticks(range(0, 24))\n",
    "plt.show()\n"
   ]
  },
  {
   "cell_type": "code",
   "execution_count": null,
   "id": "7cc905de",
   "metadata": {},
   "outputs": [],
   "source": [
    "## 📐 Hypothesis Testing (A/B Test)\n",
    "\n",
    "We use a Chi-square test to determine if the observed differences in conversion rates between the ad and PSA groups are statistically significant.\n",
    "\n",
    "**Null Hypothesis (H₀)**: Conversion rate is the same for both groups.  \n",
    "**Alternative Hypothesis (H₁)**: Conversion rate is different between groups.\n"
   ]
  },
  {
   "cell_type": "code",
   "execution_count": null,
   "id": "d4df7dce",
   "metadata": {},
   "outputs": [],
   "source": [
    "contingency = pd.crosstab(df['test group'], df['converted'])\n",
    "chi2, p, dof, expected = chi2_contingency(contingency)\n",
    "\n",
    "print(f\"Chi2 Statistic: {chi2:.2f}\")\n",
    "print(f\"P-value: {p:.4f}\")\n",
    "if p < 0.05:\n",
    "    print(\"✅ Statistically significant difference — ads likely impacted conversion.\")\n",
    "else:\n",
    "    print(\"❌ No statistically significant difference found.\")\n"
   ]
  },
  {
   "cell_type": "code",
   "execution_count": null,
   "id": "d3305ec1",
   "metadata": {},
   "outputs": [],
   "source": [
    "## 💰 Revenue Estimation\n",
    "\n",
    "Assuming a fixed revenue of $50 per successful conversion, we estimate potential ad campaign earnings.\n"
   ]
  },
  {
   "cell_type": "code",
   "execution_count": null,
   "id": "c3fd0032",
   "metadata": {},
   "outputs": [],
   "source": [
    "revenue_per_conversion = 50\n",
    "ad_conversions = contingency.loc['ad', True]\n",
    "estimated_revenue = ad_conversions * revenue_per_conversion\n",
    "\n",
    "print(f\"Estimated Revenue from Ads: ${estimated_revenue:,.2f}\")\n"
   ]
  },
  {
   "cell_type": "code",
   "execution_count": null,
   "id": "53d9444e",
   "metadata": {},
   "outputs": [],
   "source": [
    "## 📈 Insights and Business Recommendations\n",
    "\n",
    "### ✅ Key Insights:\n",
    "- Ads resulted in a **higher conversion rate** than PSA, supported by statistical testing.\n",
    "- Most conversions occurred during **midday hours (11 AM – 3 PM)** and on **weekdays**, indicating optimal ad delivery windows.\n",
    "- Users who converted saw a moderate number of ads, suggesting a **sweet spot for ad frequency**.\n",
    "\n",
    "### 💡 Recommendations:\n",
    "1. **Scale the ad campaign** to reach more users in the \"PSA\" group.\n",
    "2. **Target ad delivery during peak conversion hours** (e.g., lunch breaks).\n",
    "3. **Optimize ad frequency** to avoid oversaturation but maintain visibility.\n",
    "4. **Run segmentation experiments** (e.g., by demographics or behavior) to fine-tune targeting.\n"
   ]
  }
 ],
 "metadata": {
  "language_info": {
   "name": "python"
  }
 },
 "nbformat": 4,
 "nbformat_minor": 5
}
